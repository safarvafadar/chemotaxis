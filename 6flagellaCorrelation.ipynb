{
 "cells": [
  {
   "cell_type": "code",
   "execution_count": 1,
   "metadata": {},
   "outputs": [],
   "source": [
    "import numpy as np \n",
    "import matplotlib.pyplot as plt\n",
    "import pandas as pd\n",
    "%matplotlib inline"
   ]
  },
  {
   "cell_type": "code",
   "execution_count": 3,
   "metadata": {},
   "outputs": [],
   "source": [
    " df=pd.read_csv('H:\\\\SixflagellaCheYpRandomly.csv')"
   ]
  },
  {
   "cell_type": "code",
   "execution_count": null,
   "metadata": {},
   "outputs": [],
   "source": [
    "plt.close('all')"
   ]
  },
  {
   "cell_type": "code",
   "execution_count": null,
   "metadata": {},
   "outputs": [],
   "source": [
    "__author__ = 'vafadar'\n",
    "__version__ = '1.0'\n",
    "\n",
    "plt.rcParams.update({'font.family': 'Arial'})\n",
    "plt.rcParams.update({'font.size': 30})\n",
    "\n",
    "\n",
    "axs = pd.plotting.scatter_matrix(df, figsize=(20, 20),color='orange', s=450, diagonal='kde', density_kwds = {'lw':5, 'color':'grey'})\n",
    "\n",
    "for i in range(6):\n",
    "    for j in range(6):\n",
    "        axs[i,j].tick_params(axis='x', which='both', bottom=False, top=False,\n",
    "            labelbottom=True, size=20, width=3, direction='out', pad=10, colors='black')\n",
    "        axs[i,j].tick_params(axis='y', which='both', left=False, right=False,\n",
    "            labelbottom=True, size=20, width=3, direction='out', pad=10, colors='black')\n",
    "        axs[i,j].spines['right'].set_visible(True)\n",
    "        axs[i,j].spines['top'].set_visible(True)\n",
    "        axs[i,j].spines['bottom'].set_visible(True)\n",
    "        axs[i,j].spines['left'].set_visible(True)\n",
    "        axs[i,j].spines['left'].set_linewidth(3)\n",
    "        axs[i,j].spines['bottom'].set_linewidth(3)\n",
    "        axs[i,j].spines['right'].set_linewidth(3)\n",
    "        axs[i,j].spines['top'].set_linewidth(3)\n",
    "        axs[i,j].spines['bottom'].set_color('black')\n",
    "        axs[i,j].spines['left'].set_color('black')\n",
    "        axs[i,j].set_xticklabels([])\n",
    "        axs[i,j].set_yticklabels([])\n",
    "        \n",
    "\n",
    "\n",
    "#plt.savefig('h:\\\\chemicalLevel_cheY-Flagella_result.png', bbox_inches='tight', dpi=300)\n",
    "\n",
    "plt.show()"
   ]
  },
  {
   "cell_type": "code",
   "execution_count": null,
   "metadata": {},
   "outputs": [],
   "source": []
  }
 ],
 "metadata": {
  "kernelspec": {
   "display_name": "Python 3",
   "language": "python",
   "name": "python3"
  },
  "language_info": {
   "codemirror_mode": {
    "name": "ipython",
    "version": 3
   },
   "file_extension": ".py",
   "mimetype": "text/x-python",
   "name": "python",
   "nbconvert_exporter": "python",
   "pygments_lexer": "ipython3",
   "version": "3.7.1"
  }
 },
 "nbformat": 4,
 "nbformat_minor": 2
}
